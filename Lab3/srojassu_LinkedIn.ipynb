{
  "nbformat": 4,
  "nbformat_minor": 0,
  "metadata": {
    "colab": {
      "provenance": [],
      "authorship_tag": "ABX9TyMgX8dongANmB5hQ/uH+MRg",
      "include_colab_link": true
    },
    "kernelspec": {
      "name": "python3",
      "display_name": "Python 3"
    },
    "language_info": {
      "name": "python"
    }
  },
  "cells": [
    {
      "cell_type": "markdown",
      "metadata": {
        "id": "view-in-github",
        "colab_type": "text"
      },
      "source": [
        "<a href=\"https://colab.research.google.com/github/srojassu/MetNumUN2022II/blob/main/Lab3/srojassu_LinkedIn.ipynb\" target=\"_parent\"><img src=\"https://colab.research.google.com/assets/colab-badge.svg\" alt=\"Open In Colab\"/></a>"
      ]
    },
    {
      "cell_type": "markdown",
      "source": [
        "**Perfil de LinkedIn**"
      ],
      "metadata": {
        "id": "QDFIOXmoC287"
      }
    },
    {
      "cell_type": "markdown",
      "source": [
        "https://www.linkedin.com/in/sebastian-rodrigo-rojas-suancha-59a488211/"
      ],
      "metadata": {
        "id": "KZQwLAlDC904"
      }
    }
  ]
}